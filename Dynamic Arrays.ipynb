{
 "cells": [
  {
   "cell_type": "code",
   "execution_count": 1,
   "id": "77916ae6",
   "metadata": {},
   "outputs": [],
   "source": [
    "import ctypes\n",
    "class MyList:\n",
    "    def __init__(self):\n",
    "        self.size=1\n",
    "        self.n=0\n",
    "        self.A=self.__make_array(self.size)\n",
    "    def __len__(self):\n",
    "        return self.n\n",
    "    def append(self,item):\n",
    "        if self.n==self.size:\n",
    "            self.__resize(self.size*2)\n",
    "        self.A[self.n]=item\n",
    "        self.n=self.n+1\n",
    "    def find(self,item):\n",
    "        for i in range(self.n):\n",
    "            if self.A[i]==item:\n",
    "                return i\n",
    "        return \"IndexError - Item not found\"\n",
    "    def __getitem__(self,index):\n",
    "        if 0<=index<self.n:\n",
    "            return self.A[index]\n",
    "        else:\n",
    "            return \"IndexError - Index out of range\"\n",
    "    def clear(self):\n",
    "        self.size=1\n",
    "        self.n=0\n",
    "    def __delitem__(self,pos):\n",
    "        if 0<=pos<self.n:\n",
    "            for i in range(pos,self.n-1):\n",
    "                self.A[i]=self.A[i+1]\n",
    "            self.n-=1\n",
    "    def remove(self,item):\n",
    "        pos=self.find(item)\n",
    "        if type(pos)==int:\n",
    "            self.__delitem__(pos )\n",
    "        else:return pos\n",
    "    def insert(self,pos,item):\n",
    "        if self.n==self.size:\n",
    "            self.__resize(self.size*2)\n",
    "        for i in range(self.n,pos,-1):\n",
    "            self.A[i]=self.A[i-1]\n",
    "        self.A[pos]=item\n",
    "        self.n+=1\n",
    "    def __str__(self):\n",
    "        result=''\n",
    "        for i in range(self.n):\n",
    "            result=result+self.A[i]+','\n",
    "        return '['+result[:-1]+']'\n",
    "    def __resize(self,new_capacity):\n",
    "        B=self.__make_array(new_capacity)\n",
    "        self.size=new_capacity\n",
    "        for i in range(self.n):\n",
    "            B[i]=self.A[i]\n",
    "        self.A=B\n",
    "    def pop(self):\n",
    "        if self.n==0:\n",
    "            return \"Empty List\"\n",
    "        print(self.A[-1])\n",
    "        self.n-=1\n",
    "    def __make_array(self,capacity):\n",
    "        return (capacity*ctypes.py_object)()"
   ]
  },
  {
   "cell_type": "code",
   "execution_count": 2,
   "id": "2aba2f81",
   "metadata": {},
   "outputs": [],
   "source": [
    "L=MyList()"
   ]
  },
  {
   "cell_type": "code",
   "execution_count": 3,
   "id": "7989621f",
   "metadata": {},
   "outputs": [],
   "source": [
    "L.append('HELLO')\n",
    "L.append('Py USER')"
   ]
  },
  {
   "cell_type": "code",
   "execution_count": 4,
   "id": "fe3a7ef6",
   "metadata": {},
   "outputs": [
    {
     "data": {
      "text/plain": [
       "2"
      ]
     },
     "execution_count": 4,
     "metadata": {},
     "output_type": "execute_result"
    }
   ],
   "source": [
    "len(L)"
   ]
  },
  {
   "cell_type": "code",
   "execution_count": 5,
   "id": "c72667b2",
   "metadata": {},
   "outputs": [
    {
     "name": "stdout",
     "output_type": "stream",
     "text": [
      "[HELLO,Py USER]\n"
     ]
    }
   ],
   "source": [
    "print(L)"
   ]
  },
  {
   "cell_type": "code",
   "execution_count": 6,
   "id": "67dde7c0",
   "metadata": {},
   "outputs": [
    {
     "data": {
      "text/plain": [
       "'Py USER'"
      ]
     },
     "execution_count": 6,
     "metadata": {},
     "output_type": "execute_result"
    }
   ],
   "source": [
    "L[1]"
   ]
  },
  {
   "cell_type": "code",
   "execution_count": 7,
   "id": "26cc2df5",
   "metadata": {},
   "outputs": [],
   "source": [
    "L.insert(1,\"JAI\")"
   ]
  },
  {
   "cell_type": "code",
   "execution_count": 8,
   "id": "fca8e697",
   "metadata": {},
   "outputs": [
    {
     "name": "stdout",
     "output_type": "stream",
     "text": [
      "[HELLO,JAI,Py USER]\n"
     ]
    }
   ],
   "source": [
    "print(L)"
   ]
  },
  {
   "cell_type": "code",
   "execution_count": 9,
   "id": "573cdae9",
   "metadata": {},
   "outputs": [],
   "source": [
    "del L[1]"
   ]
  },
  {
   "cell_type": "code",
   "execution_count": 10,
   "id": "a0549752",
   "metadata": {},
   "outputs": [
    {
     "name": "stdout",
     "output_type": "stream",
     "text": [
      "[HELLO,Py USER]\n"
     ]
    }
   ],
   "source": [
    "print(L)"
   ]
  },
  {
   "cell_type": "code",
   "execution_count": 11,
   "id": "8a4127e2",
   "metadata": {},
   "outputs": [],
   "source": [
    "L.clear()"
   ]
  },
  {
   "cell_type": "code",
   "execution_count": 12,
   "id": "41f9f1d7",
   "metadata": {},
   "outputs": [
    {
     "name": "stdout",
     "output_type": "stream",
     "text": [
      "[]\n"
     ]
    }
   ],
   "source": [
    "print(L)"
   ]
  }
 ],
 "metadata": {
  "kernelspec": {
   "display_name": "Python 3 (ipykernel)",
   "language": "python",
   "name": "python3"
  },
  "language_info": {
   "codemirror_mode": {
    "name": "ipython",
    "version": 3
   },
   "file_extension": ".py",
   "mimetype": "text/x-python",
   "name": "python",
   "nbconvert_exporter": "python",
   "pygments_lexer": "ipython3",
   "version": "3.9.13"
  }
 },
 "nbformat": 4,
 "nbformat_minor": 5
}
